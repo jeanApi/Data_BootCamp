{
 "cells": [
  {
   "cell_type": "markdown",
   "metadata": {},
   "source": [
    "1) Crear una función capaz de convertir números enteros de base 10 a base 2. Debe recibir como parámetro el número a convertir<br>\n",
    "Consideraciones:<br> \n",
    "a. Tratar de resolverlo sin usar la función format(nro,\"b\")<br>\n",
    "b. El pdf \"conversion-de-decimal-a-binario.pdf\" puede servir de ayuda.\n"
   ]
  },
  {
   "cell_type": "code",
   "execution_count": 1,
   "metadata": {},
   "outputs": [],
   "source": [
    "def NumeroBinario(numero):\n",
    "    '''\n",
    "    Esta función recibe como parámetro un número entero mayor ó igual a cero y lo devuelve en su \n",
    "    representación binaria. Debe recibir y devolver un valor de tipo entero.\n",
    "    En caso de que el parámetro no sea de tipo entero y mayor a -1 retorna nulo.\n",
    "    '''\n",
    "    try:\n",
    "        if numero < -1:\n",
    "            return None\n",
    "        numero_binario = 0\n",
    "        multiplicador = 1\n",
    "        while (numero != 0):\n",
    "            numero_binario = numero_binario + numero%2 * multiplicador\n",
    "            numero = numero//2     #parte entera \n",
    "            multiplicador *= 10    #incrementa el multiplicador en 10x10\n",
    "        return numero_binario\n",
    "    except TypeError:\n",
    "        return None\n",
    "        \n",
    "        \n"
   ]
  },
  {
   "cell_type": "code",
   "execution_count": 2,
   "metadata": {},
   "outputs": [
    {
     "data": {
      "text/plain": [
       "11101"
      ]
     },
     "execution_count": 2,
     "metadata": {},
     "output_type": "execute_result"
    }
   ],
   "source": [
    "#prueba\n",
    "NumeroBinario(29)"
   ]
  },
  {
   "cell_type": "markdown",
   "metadata": {},
   "source": [
    "Otro forma de resolverlo"
   ]
  },
  {
   "cell_type": "code",
   "execution_count": 3,
   "metadata": {},
   "outputs": [],
   "source": [
    "def NumeroBinario(numero):\n",
    "   \n",
    "    try:\n",
    "        if numero < 0:\n",
    "            return None\n",
    "        binario = \"\"\n",
    "        while numero > 0:\n",
    "            residuo = int(numero % 2)\n",
    "            numero = int(numero / 2)\n",
    "            binario = str(residuo) + binario\n",
    "        binario = int(binario)\n",
    "        return binario\n",
    "    except TypeError:\n",
    "        return None"
   ]
  },
  {
   "cell_type": "code",
   "execution_count": 4,
   "metadata": {},
   "outputs": [
    {
     "data": {
      "text/plain": [
       "11101"
      ]
     },
     "execution_count": 4,
     "metadata": {},
     "output_type": "execute_result"
    }
   ],
   "source": [
    "#prueba\n",
    "NumeroBinario(29)"
   ]
  },
  {
   "cell_type": "markdown",
   "metadata": {},
   "source": [
    "2) Convertir de decimal a binario las fracciones 1/2, 1/3, 1/4, 1/5, 1/6, 1/7, 1/8, 1/9. Luego analizar los resultados y observar qué particularidad se encuentra en los mismos. Se puede usar Python o una calculadora, lo importante es ver si hay algo que podemos notar..."
   ]
  },
  {
   "cell_type": "markdown",
   "metadata": {},
   "source": [
    "Salida esperada:\n",
    "* Fraccion 1 / 2 en decimal: 0.5 y en binario: 0.1\n",
    "* Fraccion 1 / 3 en decimal: 0.3333333333333333 y en binario: 0.01251021428517034168213652730546110922218454369087381174762349525\n",
    "* Fraccion 1 / 4 en decimal: 0.25 y en binario: 0.01\n",
    "* Fraccion 1 / 5 en decimal: 0.2 y en binario: 0.00136122551102204409819163832766553131072621452428104857209715\n",
    "* Fraccion 1 / 6 en decimal: 0.16666666666666666 y en binario: 0.001251021428517034168213652730546110922218454369087381174762\n",
    "* Fraccion 1 / 7 en decimal: 0.14285714285714285 y en binario: 0.0012491836731462925851170234046819362187243744974898149796\n",
    "* Fraccion 1 / 8 en decimal: 0.125 y en binario: 0.001\n",
    "* Fraccion 1 / 9 en decimal: 0.1111111111111111 y en binario: 0.000137142856113227455910182036407281145632912758254116508"
   ]
  },
  {
   "cell_type": "markdown",
   "metadata": {},
   "source": []
  },
  {
   "cell_type": "code",
   "execution_count": 21,
   "metadata": {},
   "outputs": [],
   "source": [
    "def BinarioFraccionario (numero):\n",
    "\n",
    "    try:\n",
    "        if numero < 0 and numero > 1:\n",
    "            return None\n",
    "        if numero == 0:\n",
    "            return 0\n",
    "        tope = 24\n",
    "        numero_binario = []\n",
    "        i = 0\n",
    "        while (numero >0 and i < tope):\n",
    "            numero_binario.append(int(numero * 2)) \n",
    "            numero = numero*2 - (int(numero*2))\n",
    "            i += 1\n",
    "        Binario = '0.'\n",
    "        for elemento in numero_binario:\n",
    "            Binario = Binario + str(elemento)\n",
    "            \n",
    "        return Binario\n",
    "    except TypeError:\n",
    "        return None\n"
   ]
  },
  {
   "cell_type": "code",
   "execution_count": 22,
   "metadata": {},
   "outputs": [
    {
     "name": "stdout",
     "output_type": "stream",
     "text": [
      "0.1\n",
      "0.010101010101010101010101\n",
      "0.01\n",
      "0.001100110011001100110011\n",
      "0.001010101010101010101010\n",
      "0.001001001001001001001001\n",
      "0.001\n",
      "0.000111000111000111000111\n"
     ]
    }
   ],
   "source": [
    "#prueba \n",
    "for i in range(2,10):\n",
    "    print(BinarioFraccionario(1/i))"
   ]
  }
 ],
 "metadata": {
  "interpreter": {
   "hash": "ac6b9571379917fd405edc173f8755e37bc827d09cda2c4d5268e9de3d44e3ef"
  },
  "kernelspec": {
   "display_name": "Python 3.10.3 64-bit",
   "language": "python",
   "name": "python3"
  },
  "language_info": {
   "codemirror_mode": {
    "name": "ipython",
    "version": 3
   },
   "file_extension": ".py",
   "mimetype": "text/x-python",
   "name": "python",
   "nbconvert_exporter": "python",
   "pygments_lexer": "ipython3",
   "version": "3.10.3"
  },
  "orig_nbformat": 4
 },
 "nbformat": 4,
 "nbformat_minor": 2
}
