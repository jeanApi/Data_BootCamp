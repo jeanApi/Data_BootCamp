{
 "cells": [
  {
   "cell_type": "markdown",
   "metadata": {},
   "source": [
    "1) Abrir el archivo \"Emisiones_CO2.csv\" y cargar sus datos en un diccionario."
   ]
  },
  {
   "cell_type": "code",
   "execution_count": 9,
   "metadata": {},
   "outputs": [],
   "source": [
    "import os\n",
    "archivo = open('Emisiones_CO2.csv', 'r')"
   ]
  },
  {
   "cell_type": "code",
   "execution_count": 10,
   "metadata": {},
   "outputs": [
    {
     "data": {
      "text/plain": [
       "11128"
      ]
     },
     "execution_count": 10,
     "metadata": {},
     "output_type": "execute_result"
    }
   ],
   "source": [
    "lista=[]\n",
    "x=(archivo.readlines())\n",
    "n=len(x)\n",
    "n"
   ]
  },
  {
   "cell_type": "code",
   "execution_count": 11,
   "metadata": {},
   "outputs": [],
   "source": [
    "dicc_emisiones = {  'cod_pais' : [],\n",
    "                    'nom_pais' : [],\n",
    "                    'region' : [],\n",
    "                    'anio' : [],\n",
    "                    'co2' : [],\n",
    "                    'co2_percapita' : []}"
   ]
  },
  {
   "cell_type": "code",
   "execution_count": 12,
   "metadata": {},
   "outputs": [],
   "source": [
    "L1=[]\n",
    "L2=[]\n",
    "L3=[]\n",
    "L4=[]\n",
    "L5=[]\n",
    "L6=[]\n",
    "for e in range(n):\n",
    "    y=x[e]\n",
    "    #print(y)\n",
    "    c=len(y)\n",
    "    v=''\n",
    "    j=0\n",
    "    for i in range(6):\n",
    "        while y[j] != '|':\n",
    "            \n",
    "            v=v+str(y[j])\n",
    "            j=j+1\n",
    "            if j == c:\n",
    "                break\n",
    "        #print(j)\n",
    "        j=j+1\n",
    "        if i == 0:\n",
    "            L1.append(v)\n",
    "        elif i == 1:\n",
    "            L2.append(v)\n",
    "        elif i == 2:\n",
    "            L3.append(v)\n",
    "        elif i == 3:\n",
    "            L4.append(v)\n",
    "        elif i == 4:\n",
    "            if v=='':\n",
    "                v='0'\n",
    "                L5.append(v)\n",
    "            else:\n",
    "                L5.append(v)\n",
    "        else:\n",
    "            if v=='' or v=='\\n':\n",
    "                v='0'\n",
    "                L6.append(v)\n",
    "            else:\n",
    "                L6.append(v)\n",
    "        #print(v)\n",
    "        v=''\n",
    "dicc_emisiones['cod_pais']=L1\n",
    "dicc_emisiones['nom_pais']=L2\n",
    "dicc_emisiones['region']=L3\n",
    "dicc_emisiones['anio']=L4\n",
    "dicc_emisiones['co2']=L5\n",
    "dicc_emisiones['co2_percapita']=L6"
   ]
  },
  {
   "cell_type": "markdown",
   "metadata": {},
   "source": [
    "2) a) ¿Cuántas variables hay? <br>\n",
    "b) ¿Qué tipos de datos usar para cada una? <br>\n",
    "c) ¿Qué tipo de variables son? <br>\n",
    "d) ¿Hay valores faltantes? <br>\n",
    "e) ¿Cuál es el total de emisiones de CO2 para 'América Latina y Caribe' en el año 2010?"
   ]
  },
  {
   "cell_type": "markdown",
   "metadata": {},
   "source": [
    "Codigo para el total de emisiones de CO2"
   ]
  },
  {
   "cell_type": "code",
   "execution_count": 13,
   "metadata": {},
   "outputs": [],
   "source": [
    "def TotalEmiRegion (Region,anio):\n",
    "    x=dicc_emisiones['region'].count(Region)\n",
    "    y=dicc_emisiones['anio'].count(anio)\n",
    "    if x == 0:\n",
    "        return 0\n",
    "    if y == 0:\n",
    "        return 0\n",
    "    lista=[]\n",
    "    lista2=[]\n",
    "    ind=[]\n",
    "    ind2=[]\n",
    "    x=len(dicc_emisiones['anio'])\n",
    "    for i in range(x):\n",
    "        if (dicc_emisiones['anio'][i]) == anio:\n",
    "            ind.append(i)\n",
    "            #lista.append(dicc_emisiones['anio'][i])\n",
    "    for j in ind:\n",
    "        if (dicc_emisiones['region'][j]) == Region:\n",
    "            #devuleve las posiciones en donde es la region y el año\n",
    "            ind2.append(j) \n",
    "            #lista2.append(dicc_emisiones['region'][j])\n",
    "    #print(ind2)\n",
    "    #print(lista2)\n",
    "    total=0\n",
    "    for q in ind2:\n",
    "        p=tuple(dicc_emisiones['co2'][q])\n",
    "        #p=tuple(dicc_emisiones['co2_percapita'][q]) #percapita\n",
    "        #print(p)\n",
    "        var=''\n",
    "        \n",
    "        for n in p:\n",
    "            if n != '.' and n != ',':\n",
    "                var=var+str(n)\n",
    "            if n == ',':\n",
    "                var=var+str('.')\n",
    "        #print(var)\n",
    "        num=float(var)\n",
    "        #print(num)\n",
    "        total=total+num\n",
    "        \n",
    "    return total"
   ]
  },
  {
   "cell_type": "code",
   "execution_count": 14,
   "metadata": {},
   "outputs": [
    {
     "data": {
      "text/plain": [
       "1691634.8009999995"
      ]
     },
     "execution_count": 14,
     "metadata": {},
     "output_type": "execute_result"
    }
   ],
   "source": [
    "TotalEmiRegion('América Latina y Caribe','2010')"
   ]
  },
  {
   "cell_type": "markdown",
   "metadata": {},
   "source": [
    "Otra forma de hacerlo mas eficiente "
   ]
  },
  {
   "cell_type": "code",
   "execution_count": 5,
   "metadata": {},
   "outputs": [
    {
     "name": "stdout",
     "output_type": "stream",
     "text": [
      "Las emisiones en América Latina y Caribe en 2010 fueron de 1691634.8009999995 kt\n"
     ]
    }
   ],
   "source": [
    "import os\n",
    "archivo = open('Emisiones_CO2.csv', 'r')#, encoding='utf-8')\n",
    "\n",
    "dicc_emisiones = {  'cod_pais' : [],\n",
    "                    'nom_pais' : [],\n",
    "                    'region' : [],\n",
    "                    'anio' : [],\n",
    "                    'co2' : [],\n",
    "                    'co2_percapita' : []}\n",
    "\n",
    "encabezado = True\n",
    "for linea in archivo:\n",
    "    if (not encabezado):\n",
    "        campos = linea.split(sep='|')\n",
    "        dicc_emisiones['cod_pais'].append(campos[0])\n",
    "        dicc_emisiones['nom_pais'].append(campos[1])\n",
    "        dicc_emisiones['region'].append(campos[2])\n",
    "        dicc_emisiones['anio'].append(campos[3])\n",
    "        dicc_emisiones['co2'].append(campos[4])\n",
    "        dicc_emisiones['co2_percapita'].append(campos[5])\n",
    "    else:\n",
    "        encabezado = False\n",
    "\n",
    "archivo.close()  #siempre cerrar el archivo cuando se haya abierto \n",
    "\n",
    "for indice, elemento in enumerate(dicc_emisiones['co2']):\n",
    "    elemento = elemento.replace('.','')\n",
    "    elemento = elemento.replace(',','.')\n",
    "    if (elemento != ''):\n",
    "        elemento = float(elemento)\n",
    "    else:\n",
    "        elemento = None\n",
    "    dicc_emisiones['co2'][indice] = elemento\n",
    "\n",
    "for indice, elemento in enumerate(dicc_emisiones['co2_percapita']):\n",
    "    elemento = elemento.replace('\\n','')\n",
    "    elemento = elemento.replace('.','')\n",
    "    elemento = elemento.replace(',','.')\n",
    "    if (elemento != ''):\n",
    "        elemento = float(elemento)\n",
    "    else:\n",
    "        elemento = None\n",
    "    dicc_emisiones['co2_percapita'][indice] = elemento\n",
    "\n",
    "filtro_region = 'América Latina y Caribe'\n",
    "\n",
    "filtro_anio = '2010'\n",
    "emisiones = 0\n",
    "for indice, elemento in enumerate(dicc_emisiones['region']):\n",
    "    if (dicc_emisiones['region'][indice] == filtro_region):\n",
    "        if (dicc_emisiones['anio'][indice] == filtro_anio):\n",
    "            if (dicc_emisiones['co2'][indice] != None):\n",
    "                emisiones += dicc_emisiones['co2'][indice]\n",
    "print('Las emisiones en', filtro_region, 'en', filtro_anio, 'fueron de',emisiones,'kt')\n"
   ]
  },
  {
   "cell_type": "markdown",
   "metadata": {},
   "source": [
    "3) Generar una función que reciba como parámetro un diccionario, cuyas listas de valores tienen el mismo tamaño y sus elementos enésimos están asociados. Y otros dos parámetros que indican la clave por la cual debe ordenarse y si es descendente o ascendente.\n",
    "La función debe devolver el diccionario ordenado, teniendo en cuenta de no perder la relación entre los elementos enésimos.<br>\n",
    "Recibe tres argumentos:<br>\n",
    "        diccionario:    Diccionario a ordenar.<br>\n",
    "        clave:          Clave del diccionario recibido, por la cual ordenar.<br>\n",
    "        descendente:    Un valor booleano, que al ser falso indica ordenamiento descendente y \n",
    "                        ascendente si es verdadero. \n",
    "                        Debe tratarse de un parámetro por defecto en True.<br>\n",
    "Si el parámetro diccionario no es un tipo de dato diccionario ó el parámetro clave no se encuentra dentro de las claves del diccionario, debe devolver nulo.<br>\n",
    "    Ej:<br>\n",
    "        dicc = {'clave1':['c','a','b'],\n",
    "                'clave2':['casa','auto','barco'],\n",
    "                'clave3':[3,1,2]}\n",
    "        OrdenarDiccionario(dicc, 'clave1')          debe retornar {'clave1':['a','b','c'],\n",
    "                                                                'clave2':['auto','barco','casa'],\n",
    "                                                                'clave3':[1,2,3]}\n",
    "        OrdenarDiccionario(dicc, 'clave3', False)   debe retornar {'clave1':['c','b','a'],\n",
    "                                                                'clave2':['casa','barco','auto'],\n",
    "                                                                'clave3':[3,2,1]}"
   ]
  },
  {
   "cell_type": "code",
   "execution_count": null,
   "metadata": {},
   "outputs": [],
   "source": [
    "# Diccionario para usar de ejemplo:\n",
    "dicc = {'color':['gris','negra','celeste'],\n",
    "                'tipo':['auto','moto','barco'],\n",
    "                'numero':[1,2,3]}"
   ]
  },
  {
   "cell_type": "code",
   "execution_count": null,
   "metadata": {},
   "outputs": [],
   "source": [
    "def OrdenarDiccionario(diccionario_par, clave, descendente=True):\n",
    "    \n",
    "    if type(diccionario_par) != dict:\n",
    "      return None\n",
    "    else:\n",
    "        keys = list(diccionario_par.keys())\n",
    "        for k in keys:\n",
    "            if k == clave:\n",
    "              j=len(keys)\n",
    "              n=0\n",
    "              while n<j:\n",
    "                diccionario_par[keys[n]]=sorted(diccionario_par[keys[n]], reverse = descendente)\n",
    "                n=n+1\n",
    "        return diccionario_par"
   ]
  },
  {
   "cell_type": "code",
   "execution_count": 2,
   "metadata": {},
   "outputs": [
    {
     "ename": "NameError",
     "evalue": "name 'split' is not defined",
     "output_type": "error",
     "traceback": [
      "\u001b[1;31m---------------------------------------------------------------------------\u001b[0m",
      "\u001b[1;31mNameError\u001b[0m                                 Traceback (most recent call last)",
      "\u001b[1;32mc:\\Users\\JEAN CARLOS\\Desktop\\data Sciencie\\Data_BootCamp\\Module_1\\HomeWork_2.ipynb Cell 15'\u001b[0m in \u001b[0;36m<cell line: 1>\u001b[1;34m()\u001b[0m\n\u001b[1;32m----> <a href='vscode-notebook-cell:/c%3A/Users/JEAN%20CARLOS/Desktop/data%20Sciencie/Data_BootCamp/Module_1/HomeWork_2.ipynb#ch0000014?line=0'>1</a>\u001b[0m help (split())\n",
      "\u001b[1;31mNameError\u001b[0m: name 'split' is not defined"
     ]
    }
   ],
   "source": [
    "help (split())"
   ]
  }
 ],
 "metadata": {
  "interpreter": {
   "hash": "ac6b9571379917fd405edc173f8755e37bc827d09cda2c4d5268e9de3d44e3ef"
  },
  "kernelspec": {
   "display_name": "Python 3.10.3 64-bit",
   "language": "python",
   "name": "python3"
  },
  "language_info": {
   "codemirror_mode": {
    "name": "ipython",
    "version": 3
   },
   "file_extension": ".py",
   "mimetype": "text/x-python",
   "name": "python",
   "nbconvert_exporter": "python",
   "pygments_lexer": "ipython3",
   "version": "3.10.3"
  },
  "orig_nbformat": 4
 },
 "nbformat": 4,
 "nbformat_minor": 2
}
